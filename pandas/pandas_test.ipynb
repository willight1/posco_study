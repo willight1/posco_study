{
  "cells": [
    {
      "cell_type": "markdown",
      "metadata": {},
      "source": [
        "# Pandas 실습문제"
      ]
    },
    {
      "cell_type": "code",
      "execution_count": 32,
      "metadata": {},
      "outputs": [],
      "source": [
        "import pandas as pd"
      ]
    },
    {
      "cell_type": "markdown",
      "metadata": {},
      "source": [
        "### 1. CSV 파일을 읽고 상위 5개 데이터를 출력하시오."
      ]
    },
    {
      "cell_type": "code",
      "execution_count": 34,
      "metadata": {},
      "outputs": [],
      "source": [
        "## 구현\n",
        "\n"
      ]
    },
    {
      "cell_type": "markdown",
      "metadata": {},
      "source": [
        "### 2. 데이터의 행과 열의 개수, 컬럼명, 데이터 타입을 확인하시오."
      ]
    },
    {
      "cell_type": "code",
      "execution_count": 35,
      "metadata": {},
      "outputs": [],
      "source": [
        "## 구현\n",
        "# 행과 열 개수\n",
        "\n",
        "# 컬럼명\n",
        "\n",
        "# 데이터 타입"
      ]
    },
    {
      "cell_type": "markdown",
      "metadata": {},
      "source": [
        "### 3. 데이터의 결측치(null) 개수를 확인하시오."
      ]
    },
    {
      "cell_type": "code",
      "execution_count": 36,
      "metadata": {},
      "outputs": [],
      "source": [
        "## 구현\n",
        "# 결측치 개수 확인"
      ]
    },
    {
      "cell_type": "markdown",
      "metadata": {},
      "source": [
        "### 4. 특정 컬럼(Age)의 평균, 중앙값, 최댓값, 최솟값을 구하시오."
      ]
    },
    {
      "cell_type": "code",
      "execution_count": 37,
      "metadata": {},
      "outputs": [],
      "source": [
        "## 구현\n",
        "# Age 컬럼 통계"
      ]
    },
    {
      "cell_type": "markdown",
      "metadata": {},
      "source": [
        "### 5. Salary 컬럼 기준 내림차순 정렬을 수행하시오."
      ]
    },
    {
      "cell_type": "code",
      "execution_count": 38,
      "metadata": {},
      "outputs": [],
      "source": [
        "## 구현\n",
        "# Salary 내림차순 정렬\n",
        "# 힌트: ascending"
      ]
    },
    {
      "cell_type": "markdown",
      "metadata": {},
      "source": [
        "### 6. Department가 'Sales'인 행만 추출하시오."
      ]
    },
    {
      "cell_type": "code",
      "execution_count": 39,
      "metadata": {},
      "outputs": [],
      "source": [
        "## 구현\n",
        "# Department가 'Sales'인 행 필터링\n",
        "# 힌트: 불리언 인덱싱"
      ]
    },
    {
      "cell_type": "markdown",
      "metadata": {},
      "source": [
        "### 7. Salary 컬럼의 결측값을 평균 값으로 채우시오. 결과는 상위 5개만 확인하시오."
      ]
    },
    {
      "cell_type": "code",
      "execution_count": 40,
      "metadata": {},
      "outputs": [],
      "source": [
        "## 구현\n",
        "# 힌트: fillna(평균값) 혹은 df['컬럼명'].mean()"
      ]
    },
    {
      "cell_type": "markdown",
      "metadata": {},
      "source": [
        "### 8. Department별 평균 Salary와 평균 Age를 구하시오."
      ]
    },
    {
      "cell_type": "code",
      "execution_count": 41,
      "metadata": {},
      "outputs": [],
      "source": [
        "## 구현\n",
        "# 부서별 평균 Salary와 평균 Age 계산\n",
        "# 힌트: groupby"
      ]
    },
    {
      "cell_type": "markdown",
      "metadata": {},
      "source": [
        "### 9. Age 컬럼을 20대, 30대, 40대 그룹으로 나누어 Age_Group 컬럼을 만들고 평균 Salary를 구하시오."
      ]
    },
    {
      "cell_type": "code",
      "execution_count": 42,
      "metadata": {},
      "outputs": [],
      "source": [
        "## 구현\n",
        "# 힌트: pd.cut()으로 구간을 나누고 라벨을 지정할 수 있습니다.\n"
      ]
    },
    {
      "cell_type": "markdown",
      "metadata": {},
      "source": [
        "### 10. 특정 조건 필터링\n",
        "Department가 'Engineering'이면서 Salary가 5000 이상인 직원들의 이름과 나이를 출력하시오."
      ]
    },
    {
      "cell_type": "code",
      "execution_count": 43,
      "metadata": {},
      "outputs": [],
      "source": [
        "## 구현\n"
      ]
    },
    {
      "cell_type": "markdown",
      "metadata": {},
      "source": [
        "### 11. 나이 구간별 인원수 집계\n",
        "Age 컬럼을 20대, 30대, 40대, 50대 그룹으로 나누어(pd.cut 사용) 각 구간별 인원수를 구하시오."
      ]
    },
    {
      "cell_type": "code",
      "execution_count": 44,
      "metadata": {},
      "outputs": [],
      "source": [
        "## 구현\n"
      ]
    },
    {
      "cell_type": "markdown",
      "metadata": {},
      "source": [
        "### 12. 결측치 비율 확인\n",
        "각 컬럼별 결측치 비율(%)을 계산하여 출력하시오."
      ]
    },
    {
      "cell_type": "code",
      "execution_count": 46,
      "metadata": {},
      "outputs": [],
      "source": [
        "## 구현\n",
        "# 결측치 비율 계산\n",
        "# 힌트: 비율은 (결측치 개수 / 전체 행 수) * 100\n"
      ]
    },
    {
      "cell_type": "markdown",
      "metadata": {},
      "source": [
        "### 13. Salary 상위 10% 직원 추출\n",
        "Salary 기준 상위 10% 직원의 Name, Department, Salary만 출력하시오."
      ]
    },
    {
      "cell_type": "code",
      "execution_count": 47,
      "metadata": {},
      "outputs": [],
      "source": [
        "## 구현\n",
        "# 힌트: quantile()\n"
      ]
    },
    {
      "cell_type": "markdown",
      "metadata": {},
      "source": [
        "### 14. 부서별 최고 연봉자 찾기\n",
        "Department별 최고 연봉(Salary)을 받는 직원의 이름과 연봉을 출력하시오."
      ]
    },
    {
      "cell_type": "code",
      "execution_count": 48,
      "metadata": {},
      "outputs": [],
      "source": [
        "## 구현\n",
        "# 힌트\n",
        "# idxmax(): 최대값 반환\n",
        "# loc: 해당하는 행의 데이터 출력\n"
      ]
    },
    {
      "cell_type": "markdown",
      "metadata": {},
      "source": [
        "### 15. 중복 데이터 처리\n",
        "Name이 중복되는 경우를 찾아 중복된 데이터만 출력하시오.\n",
        "\n",
        "중복 제거 후의 데이터프레임도 출력하시오."
      ]
    },
    {
      "cell_type": "code",
      "execution_count": 49,
      "metadata": {},
      "outputs": [],
      "source": [
        "## 구현"
      ]
    },
    {
      "cell_type": "markdown",
      "metadata": {},
      "source": [
        "### 16. 다중 조건 정렬\n",
        "Department를 오름차순으로, 같은 부서 내에서는 Salary를 내림차순으로 정렬하시오."
      ]
    },
    {
      "cell_type": "code",
      "execution_count": 50,
      "metadata": {},
      "outputs": [],
      "source": [
        "# 구현"
      ]
    }
  ],
  "metadata": {
    "kernelspec": {
      "display_name": "base",
      "language": "python",
      "name": "python3"
    },
    "language_info": {
      "codemirror_mode": {
        "name": "ipython",
        "version": 3
      },
      "file_extension": ".py",
      "mimetype": "text/x-python",
      "name": "python",
      "nbconvert_exporter": "python",
      "pygments_lexer": "ipython3",
      "version": "3.12.4"
    }
  },
  "nbformat": 4,
  "nbformat_minor": 2
}
