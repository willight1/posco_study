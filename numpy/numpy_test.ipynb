{
 "cells": [
  {
   "cell_type": "markdown",
   "id": "8d48c609",
   "metadata": {},
   "source": [
    "\n",
    "# Numpy 실습문제\n",
    "\n"
   ]
  },
  {
   "cell_type": "code",
   "execution_count": null,
   "id": "25256beb",
   "metadata": {},
   "outputs": [],
   "source": [
    "import numpy as np"
   ]
  },
  {
   "cell_type": "markdown",
   "id": "283364ed",
   "metadata": {},
   "source": [
    "### 1. 1차원 배열 생성\n",
    "1부터 20까지의 정수를 원소로 갖는 1차원 배열을 생성하세요.\n",
    "\n",
    "출력 예시: [ 1 2 3 ... 20]"
   ]
  },
  {
   "cell_type": "code",
   "execution_count": null,
   "id": "215b7280",
   "metadata": {},
   "outputs": [],
   "source": [
    "## 구현\n",
    "# 힌트: np.arange() 함수를 사용하면 특정 범위의 연속된 숫자를 쉽게 생성할 수 있습니다."
   ]
  },
  {
   "cell_type": "markdown",
   "id": "c5471bb9",
   "metadata": {},
   "source": [
    "### 2. 2차원 배열 생성\n",
    "0부터 8까지의 정수를 가진 3x3 배열을 생성하세요."
   ]
  },
  {
   "cell_type": "code",
   "execution_count": null,
   "id": "941c72ff",
   "metadata": {},
   "outputs": [],
   "source": [
    "## 구현\n",
    "# 힌트: np.reshape()를 사용하면 배열의 형태를 원하는 차원으로 바꿀 수 있습니다."
   ]
  },
  {
   "cell_type": "markdown",
   "id": "2ff2105b",
   "metadata": {},
   "source": [
    "### 3. 배열 연산\n",
    "다음 배열에 10을 더한 결과를 출력하세요."
   ]
  },
  {
   "cell_type": "code",
   "execution_count": null,
   "id": "9bc8e497",
   "metadata": {},
   "outputs": [],
   "source": [
    "arr = np.array([1, 2, 3, 4, 5])\n",
    "## 구현\n",
    "# 힌트: 배열에 스칼라(숫자)를 더하면 모든 원소에 자동으로 더해집니다. (브로드캐스팅) "
   ]
  },
  {
   "cell_type": "markdown",
   "id": "05c239bf",
   "metadata": {},
   "source": [
    "### 4. 형태 변경 (reshape)\n",
    "1부터 12까지의 숫자로 이루어진 배열을 3x4 형태로 변환하세요."
   ]
  },
  {
   "cell_type": "code",
   "execution_count": null,
   "id": "60043778",
   "metadata": {},
   "outputs": [],
   "source": [
    "## 구현\n",
    "# 힌트: 1차원 배열을 다차원으로 바꿀 때 reshape(행, 열) 사용"
   ]
  },
  {
   "cell_type": "markdown",
   "id": "19949659",
   "metadata": {},
   "source": [
    "### 5. 슬라이싱\n",
    "다음 배열에서 짝수 인덱스의 값만 추출하세요."
   ]
  },
  {
   "cell_type": "code",
   "execution_count": null,
   "id": "c097efbb",
   "metadata": {},
   "outputs": [],
   "source": [
    "arr = np.array([10, 20, 30, 40, 50, 60, 70])\n",
    "## 구현\n",
    "# 힌트: 짝수 인덱스만 선택하려면 슬라이싱에 step 인자(::2) 사용"
   ]
  },
  {
   "cell_type": "markdown",
   "id": "85617853",
   "metadata": {},
   "source": [
    "### 6. 불리언 인덱싱\n",
    "배열에서 50보다 큰 값만 추출하세요."
   ]
  },
  {
   "cell_type": "code",
   "execution_count": null,
   "id": "31747fb7",
   "metadata": {},
   "outputs": [],
   "source": [
    "arr = np.array([10, 55, 33, 78, 25, 90])\n",
    "## 구현\n",
    "# 힌트: 조건문을 배열에 적용해 True/False 마스크 생성 후 필터링"
   ]
  },
  {
   "cell_type": "markdown",
   "id": "7bb06db8",
   "metadata": {},
   "source": [
    "### 7. 브로드 캐스팅\n",
    "3x3 배열에 다음 1차원 배열 [1, 2, 3]을 더하세요."
   ]
  },
  {
   "cell_type": "code",
   "execution_count": null,
   "id": "a3ee8462",
   "metadata": {},
   "outputs": [],
   "source": [
    "arr = np.array([[10, 20, 30],\n",
    "                [40, 50, 60],\n",
    "                [70, 80, 90]])\n",
    "\n",
    "## 구현\n",
    "# 힌트: 3x3 배열과 1차원 배열 [1,2,3]을 더하면 자동으로 열 단위로 더해짐"
   ]
  },
  {
   "cell_type": "markdown",
   "id": "5642a43b",
   "metadata": {},
   "source": [
    "### 8. 조건 대체\n",
    "배열에서 50 이상인 값은 1, 그렇지 않은 값은 0으로 바꾸세요."
   ]
  },
  {
   "cell_type": "code",
   "execution_count": null,
   "id": "8c4817af",
   "metadata": {},
   "outputs": [],
   "source": [
    "arr = np.array([45, 60, 23, 88, 42])\n",
    "## 구현\n",
    "# 힌트: np.where()를 사용하면 조건에 맞는 값을 대체할 수 있습니다.\n",
    "\n",
    "# 예: np.where(arr >= 20, 3, 1)"
   ]
  },
  {
   "cell_type": "markdown",
   "id": "5a7b5f4e",
   "metadata": {},
   "source": [
    "### 9. 기초 통계 연산\n",
    "다음 배열의 평균, 표준편차, 최댓값, 최솟값을 구하세요."
   ]
  },
  {
   "cell_type": "code",
   "execution_count": null,
   "id": "8ed9f57a",
   "metadata": {},
   "outputs": [],
   "source": [
    "arr = np.array([5, 15, 25, 35, 45, 55])\n",
    "\n",
    "## 구현\n",
    "# 힌트: mean, std, max, min"
   ]
  },
  {
   "cell_type": "markdown",
   "id": "4d8d6d37",
   "metadata": {},
   "source": [
    "### 10. 난수 생성 및 조건 필터링\n",
    "0~100 사이의 정수 난수 20개를 생성하고, 이 중에서 50 이상인 값만 출력하세요."
   ]
  },
  {
   "cell_type": "code",
   "execution_count": null,
   "id": "9bcb9f8b",
   "metadata": {},
   "outputs": [],
   "source": [
    "## 구현\n",
    "# 힌트: np.random.randint"
   ]
  },
  {
   "cell_type": "markdown",
   "id": "ab6212f5",
   "metadata": {},
   "source": [
    "### 11. 행렬 연산\n",
    "두 2x2 행렬의 곱을 구하세요."
   ]
  },
  {
   "cell_type": "code",
   "execution_count": null,
   "id": "c1eed4c0",
   "metadata": {},
   "outputs": [],
   "source": [
    "A = np.array([[1, 2],\n",
    "              [3, 4]])\n",
    "B = np.array([[5, 6],\n",
    "              [7, 8]])\n",
    "\n",
    "## 구현\n",
    "# 힌트: np.dot() 또는 @ 연산자"
   ]
  },
  {
   "cell_type": "markdown",
   "id": "db18d383",
   "metadata": {},
   "source": [
    "### 12. 정렬과 인덱스 반환\n",
    "배열을 오름차순으로 정렬하고, 정렬 후의 인덱스를 반환하세요."
   ]
  },
  {
   "cell_type": "code",
   "execution_count": null,
   "id": "c6caea0f",
   "metadata": {},
   "outputs": [],
   "source": [
    "arr = np.array([40, 10, 20, 30])\n",
    "\n",
    "## 구현\n",
    "# 힌트: np.sort()를 사용하면 배열을 정렬할 수 있습니다. np.argsort()를 사용하면 인덱스를 반환합니다."
   ]
  },
  {
   "cell_type": "markdown",
   "id": "f472a42a",
   "metadata": {},
   "source": [
    "### 13. 이상치 제거\n",
    "평균에서 2 표준편차 이상 벗어난 값을 제거하는 코드를 작성하세요."
   ]
  },
  {
   "cell_type": "code",
   "execution_count": null,
   "id": "5281a3b7",
   "metadata": {},
   "outputs": [],
   "source": [
    "arr = np.array([10, 12, 13, 120, 15, 14, 200])\n",
    "\n",
    "## 구현\n",
    "# 힌트: 평균보다 2 표준편차 작은 값 & 평균보다 2 표준편차 큰 값"
   ]
  },
  {
   "cell_type": "markdown",
   "id": "cd195f1e",
   "metadata": {},
   "source": [
    "### 14. 정규화(Normalization)\n",
    "주어진 배열을 0~1 범위로 정규화하세요."
   ]
  },
  {
   "cell_type": "code",
   "execution_count": null,
   "id": "9eff67a2",
   "metadata": {},
   "outputs": [],
   "source": [
    "arr = np.array([10, 20, 30, 40, 50])\n",
    "\n",
    "## 구현\n",
    "# 힌트: (x-min)/(max-min) 공식을 사용하여 정규화"
   ]
  },
  {
   "cell_type": "markdown",
   "id": "8cd83df6",
   "metadata": {},
   "source": [
    "### 15. 그룹별 평균 계산(데이터 분석)\n",
    "다음과 같은 데이터에서 성별로 평균 점수를 구하세요."
   ]
  },
  {
   "cell_type": "code",
   "execution_count": null,
   "id": "a74fab76",
   "metadata": {},
   "outputs": [],
   "source": [
    "names = np.array(['Kim', 'Lee', 'Park', 'Choi', 'Jung'])\n",
    "gender = np.array(['M', 'F', 'M', 'F', 'M'])\n",
    "scores = np.array([85, 92, 78, 88, 95])\n",
    "\n",
    "## 구현\n",
    "# 힌트: 불리언 인덱싱을 사용하여 조건에 맞는 데이터만 선택"
   ]
  },
  {
   "cell_type": "markdown",
   "id": "f0ffae26",
   "metadata": {},
   "source": [
    "### 16. 상관계수 분석\n",
    "다음 두 데이터의 상관계수를 구하세요."
   ]
  },
  {
   "cell_type": "code",
   "execution_count": null,
   "id": "f5b3f9b8",
   "metadata": {},
   "outputs": [],
   "source": [
    "x = np.array([10, 20, 30, 40, 50])\n",
    "y = np.array([15, 25, 35, 45, 55])\n",
    "\n",
    "## 구현\n",
    "# 힌트: np.corrcoef(x,y) 함수를 사용하여 상관계수 계산"
   ]
  },
  {
   "cell_type": "markdown",
   "id": "03e46ff0",
   "metadata": {},
   "source": [
    "### 문제 17: 데이터 요약 통계\n",
    "난수 100개를 생성하여 평균, 중앙값, 최댓값, 최솟값, 분산을 출력하세요."
   ]
  },
  {
   "cell_type": "code",
   "execution_count": null,
   "id": "335c7b96",
   "metadata": {},
   "outputs": [],
   "source": [
    "## 구현\n",
    "# 힌트: 난수 생성하는 방법은 np.random.randn(개수) 또는 np.random.randint(최소값, 최대값, 개수)"
   ]
  }
 ],
 "metadata": {
  "kernelspec": {
   "display_name": "base",
   "language": "python",
   "name": "python3"
  },
  "language_info": {
   "codemirror_mode": {
    "name": "ipython",
    "version": 3
   },
   "file_extension": ".py",
   "mimetype": "text/x-python",
   "name": "python",
   "nbconvert_exporter": "python",
   "pygments_lexer": "ipython3",
   "version": "3.12.4"
  }
 },
 "nbformat": 4,
 "nbformat_minor": 5
}
