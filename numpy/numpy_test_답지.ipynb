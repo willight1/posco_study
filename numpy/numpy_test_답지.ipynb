{
 "cells": [
  {
   "cell_type": "markdown",
   "id": "8d48c609",
   "metadata": {},
   "source": [
    "\n",
    "# Numpy 실습문제\n",
    "\n"
   ]
  },
  {
   "cell_type": "code",
   "execution_count": 2,
   "id": "25256beb",
   "metadata": {},
   "outputs": [],
   "source": [
    "import numpy as np"
   ]
  },
  {
   "cell_type": "markdown",
   "id": "283364ed",
   "metadata": {},
   "source": [
    "### 1. 1차원 배열 생성\n",
    "1부터 20까지의 정수를 원소로 갖는 1차원 배열을 생성하세요.\n",
    "\n",
    "출력 예시: [ 1 2 3 ... 20]"
   ]
  },
  {
   "cell_type": "code",
   "execution_count": 4,
   "id": "215b7280",
   "metadata": {},
   "outputs": [
    {
     "name": "stdout",
     "output_type": "stream",
     "text": [
      "[ 1  2  3  4  5  6  7  8  9 10 11 12 13 14 15 16 17 18 19 20]\n"
     ]
    }
   ],
   "source": [
    "## 구현\n",
    "# 힌트: np.arange() 함수를 사용하면 특정 범위의 연속된 숫자를 쉽게 생성할 수 있습니다.\n",
    "arr = np.arange(1, 21)\n",
    "print(arr)"
   ]
  },
  {
   "cell_type": "markdown",
   "id": "c5471bb9",
   "metadata": {},
   "source": [
    "### 2. 2차원 배열 생성\n",
    "0부터 8까지의 정수를 가진 3x3 배열을 생성하세요."
   ]
  },
  {
   "cell_type": "code",
   "execution_count": 5,
   "id": "941c72ff",
   "metadata": {},
   "outputs": [
    {
     "name": "stdout",
     "output_type": "stream",
     "text": [
      "[[0 1 2]\n",
      " [3 4 5]\n",
      " [6 7 8]]\n"
     ]
    }
   ],
   "source": [
    "## 구현\n",
    "# 힌트: np.reshape()를 사용하면 배열의 형태를 원하는 차원으로 바꿀 수 있습니다.\n",
    "arr = np.arange(9).reshape(3, 3)\n",
    "print(arr)"
   ]
  },
  {
   "cell_type": "markdown",
   "id": "2ff2105b",
   "metadata": {},
   "source": [
    "### 3. 배열 연산\n",
    "다음 배열에 10을 더한 결과를 출력하세요."
   ]
  },
  {
   "cell_type": "code",
   "execution_count": 6,
   "id": "9bc8e497",
   "metadata": {},
   "outputs": [
    {
     "name": "stdout",
     "output_type": "stream",
     "text": [
      "[11 12 13 14 15]\n"
     ]
    }
   ],
   "source": [
    "arr = np.array([1, 2, 3, 4, 5])\n",
    "## 구현\n",
    "# 힌트: 배열에 스칼라(숫자)를 더하면 모든 원소에 자동으로 더해집니다. (브로드캐스팅) \n",
    "arr = np.array([1, 2, 3, 4, 5])\n",
    "result = arr + 10\n",
    "print(result)"
   ]
  },
  {
   "cell_type": "markdown",
   "id": "05c239bf",
   "metadata": {},
   "source": [
    "### 4. 형태 변경 (reshape)\n",
    "1부터 12까지의 숫자로 이루어진 배열을 3x4 형태로 변환하세요."
   ]
  },
  {
   "cell_type": "code",
   "execution_count": 7,
   "id": "60043778",
   "metadata": {},
   "outputs": [
    {
     "name": "stdout",
     "output_type": "stream",
     "text": [
      "[[ 1  2  3  4]\n",
      " [ 5  6  7  8]\n",
      " [ 9 10 11 12]]\n"
     ]
    }
   ],
   "source": [
    "## 구현\n",
    "# 힌트: 1차원 배열을 다차원으로 바꿀 때 reshape(행, 열) 사용\n",
    "arr = np.arange(1, 13).reshape(3, 4)\n",
    "print(arr)"
   ]
  },
  {
   "cell_type": "markdown",
   "id": "19949659",
   "metadata": {},
   "source": [
    "### 5. 슬라이싱\n",
    "다음 배열에서 짝수 인덱스의 값만 추출하세요."
   ]
  },
  {
   "cell_type": "code",
   "execution_count": 8,
   "id": "c097efbb",
   "metadata": {},
   "outputs": [
    {
     "name": "stdout",
     "output_type": "stream",
     "text": [
      "[10 30 50 70]\n"
     ]
    }
   ],
   "source": [
    "arr = np.array([10, 20, 30, 40, 50, 60, 70])\n",
    "## 구현\n",
    "# 힌트: 짝수 인덱스만 선택하려면 슬라이싱에 step 인자(::2) 사용\n",
    "arr = np.array([10, 20, 30, 40, 50, 60, 70])\n",
    "result = arr[::2]\n",
    "print(result)"
   ]
  },
  {
   "cell_type": "markdown",
   "id": "85617853",
   "metadata": {},
   "source": [
    "### 6. 불리언 인덱싱\n",
    "배열에서 50보다 큰 값만 추출하세요."
   ]
  },
  {
   "cell_type": "code",
   "execution_count": null,
   "id": "31747fb7",
   "metadata": {},
   "outputs": [
    {
     "name": "stdout",
     "output_type": "stream",
     "text": [
      "[55 78 90]\n"
     ]
    }
   ],
   "source": [
    "arr = np.array([10, 55, 33, 78, 25, 90])\n",
    "## 구현\n",
    "# 힌트: 조건문을 배열에 적용해 True/False 마스크 생성 후 필터링\n",
    "result = arr[arr > 50]\n",
    "print(result)"
   ]
  },
  {
   "cell_type": "markdown",
   "id": "7bb06db8",
   "metadata": {},
   "source": [
    "### 7. 브로드 캐스팅\n",
    "3x3 배열에 다음 1차원 배열 [1, 2, 3]을 더하세요."
   ]
  },
  {
   "cell_type": "code",
   "execution_count": 10,
   "id": "a3ee8462",
   "metadata": {},
   "outputs": [
    {
     "name": "stdout",
     "output_type": "stream",
     "text": [
      "[[11 22 33]\n",
      " [41 52 63]\n",
      " [71 82 93]]\n"
     ]
    }
   ],
   "source": [
    "arr = np.array([[10, 20, 30],\n",
    "                [40, 50, 60],\n",
    "                [70, 80, 90]])\n",
    "\n",
    "## 구현\n",
    "# 힌트: 3x3 배열과 1차원 배열 [1,2,3]을 더하면 자동으로 열 단위로 더해짐\n",
    "add = np.array([1, 2, 3])\n",
    "result = arr + add\n",
    "print(result)"
   ]
  },
  {
   "cell_type": "markdown",
   "id": "5642a43b",
   "metadata": {},
   "source": [
    "### 8. 조건 대체\n",
    "배열에서 50 이상인 값은 1, 그렇지 않은 값은 0으로 바꾸세요."
   ]
  },
  {
   "cell_type": "code",
   "execution_count": 11,
   "id": "8c4817af",
   "metadata": {},
   "outputs": [
    {
     "name": "stdout",
     "output_type": "stream",
     "text": [
      "[0 1 0 1 0]\n"
     ]
    }
   ],
   "source": [
    "arr = np.array([45, 60, 23, 88, 42])\n",
    "## 구현\n",
    "# 힌트: np.where()를 사용하면 조건에 맞는 값을 대체할 수 있습니다.\n",
    "\n",
    "# 예: np.where(arr >= 20, 3, 1)\n",
    "result = np.where(arr >= 50, 1, 0)\n",
    "print(result)"
   ]
  },
  {
   "cell_type": "markdown",
   "id": "5a7b5f4e",
   "metadata": {},
   "source": [
    "### 9. 기초 통계 연산\n",
    "다음 배열의 평균, 표준편차, 최댓값, 최솟값을 구하세요."
   ]
  },
  {
   "cell_type": "code",
   "execution_count": 12,
   "id": "8ed9f57a",
   "metadata": {},
   "outputs": [
    {
     "name": "stdout",
     "output_type": "stream",
     "text": [
      "30.0\n",
      "17.07825127659933\n",
      "55\n",
      "5\n"
     ]
    }
   ],
   "source": [
    "arr = np.array([5, 15, 25, 35, 45, 55])\n",
    "\n",
    "## 구현\n",
    "# 힌트: mean, std, max, min\n",
    "mean = np.mean(arr)\n",
    "std = np.std(arr)\n",
    "max_val = np.max(arr)\n",
    "min_val = np.min(arr)\n",
    "print(mean)\n",
    "print(std)\n",
    "print(max_val)\n",
    "print(min_val)"
   ]
  },
  {
   "cell_type": "markdown",
   "id": "4d8d6d37",
   "metadata": {},
   "source": [
    "### 10. 난수 생성 및 조건 필터링\n",
    "0~100 사이의 정수 난수 20개를 생성하고, 이 중에서 50 이상인 값만 출력하세요."
   ]
  },
  {
   "cell_type": "code",
   "execution_count": 13,
   "id": "9bcb9f8b",
   "metadata": {},
   "outputs": [
    {
     "name": "stdout",
     "output_type": "stream",
     "text": [
      "[61 51 79 69 76 69 74 79]\n"
     ]
    }
   ],
   "source": [
    "## 구현\n",
    "# 힌트: np.random.randint\n",
    "arr = np.random.randint(0, 101, 20)\n",
    "filtered = arr[arr >= 50]\n",
    "\n",
    "print(filtered)"
   ]
  },
  {
   "cell_type": "markdown",
   "id": "ab6212f5",
   "metadata": {},
   "source": [
    "### 11. 행렬 연산\n",
    "두 2x2 행렬의 곱을 구하세요."
   ]
  },
  {
   "cell_type": "code",
   "execution_count": 15,
   "id": "c1eed4c0",
   "metadata": {},
   "outputs": [
    {
     "name": "stdout",
     "output_type": "stream",
     "text": [
      "[[19 22]\n",
      " [43 50]]\n"
     ]
    }
   ],
   "source": [
    "A = np.array([[1, 2],\n",
    "              [3, 4]])\n",
    "B = np.array([[5, 6],\n",
    "              [7, 8]])\n",
    "\n",
    "## 구현\n",
    "# 힌트: np.dot() 또는 @ 연산자\n",
    "result = np.dot(A, B)  # 또는 A @ B\n",
    "print(result)"
   ]
  },
  {
   "cell_type": "markdown",
   "id": "db18d383",
   "metadata": {},
   "source": [
    "### 12. 정렬과 인덱스 반환\n",
    "배열을 오름차순으로 정렬하고, 정렬 후의 인덱스를 반환하세요."
   ]
  },
  {
   "cell_type": "code",
   "execution_count": null,
   "id": "c6caea0f",
   "metadata": {},
   "outputs": [
    {
     "name": "stdout",
     "output_type": "stream",
     "text": [
      "[10 20 30 40]\n",
      "[1 2 3 0]\n"
     ]
    }
   ],
   "source": [
    "arr = np.array([40, 10, 20, 30])\n",
    "\n",
    "## 구현\n",
    "# 힌트: np.sort()를 사용하면 배열을 정렬할 수 있습니다. \n",
    "sorted_arr = np.sort(arr)\n",
    "sorted_indices = np.argsort(arr)\n",
    "\n",
    "print(sorted_arr)\n",
    "print(sorted_indices)"
   ]
  },
  {
   "cell_type": "markdown",
   "id": "f472a42a",
   "metadata": {},
   "source": [
    "### 13. 이상치 제거\n",
    "평균에서 2 표준편차 이상 벗어난 값을 제거하는 코드를 작성하세요."
   ]
  },
  {
   "cell_type": "code",
   "execution_count": 18,
   "id": "5281a3b7",
   "metadata": {},
   "outputs": [
    {
     "name": "stdout",
     "output_type": "stream",
     "text": [
      "[ 10  12  13 120  15  14]\n"
     ]
    }
   ],
   "source": [
    "arr = np.array([10, 12, 13, 120, 15, 14, 200])\n",
    "\n",
    "## 구현\n",
    "# 힌트: 평균보다 2 표준편차 작은 값 & 평균보다 2 표준편차 큰 값\n",
    "mean = np.mean(arr)\n",
    "std = np.std(arr)\n",
    "filtered = arr[(arr > mean - 2*std) & (arr < mean + 2*std)]\n",
    "print(filtered)"
   ]
  },
  {
   "cell_type": "markdown",
   "id": "cd195f1e",
   "metadata": {},
   "source": [
    "### 14. 정규화(Normalization)\n",
    "주어진 배열을 0~1 범위로 정규화하세요."
   ]
  },
  {
   "cell_type": "code",
   "execution_count": 19,
   "id": "9eff67a2",
   "metadata": {},
   "outputs": [
    {
     "name": "stdout",
     "output_type": "stream",
     "text": [
      "[0.   0.25 0.5  0.75 1.  ]\n"
     ]
    }
   ],
   "source": [
    "arr = np.array([10, 20, 30, 40, 50])\n",
    "\n",
    "## 구현\n",
    "# 힌트: (x-min)/(max-min) 공식을 사용하여 정규화\n",
    "normalized = (arr - arr.min()) / (arr.max() - arr.min())\n",
    "print(normalized)"
   ]
  },
  {
   "cell_type": "markdown",
   "id": "8cd83df6",
   "metadata": {},
   "source": [
    "### 15. 그룹별 평균 계산(데이터 분석)\n",
    "다음과 같은 데이터에서 성별로 평균 점수를 구하세요."
   ]
  },
  {
   "cell_type": "code",
   "execution_count": 20,
   "id": "a74fab76",
   "metadata": {},
   "outputs": [
    {
     "name": "stdout",
     "output_type": "stream",
     "text": [
      "86.0\n",
      "90.0\n"
     ]
    }
   ],
   "source": [
    "names = np.array(['Kim', 'Lee', 'Park', 'Choi', 'Jung'])\n",
    "gender = np.array(['M', 'F', 'M', 'F', 'M'])\n",
    "scores = np.array([85, 92, 78, 88, 95])\n",
    "\n",
    "## 구현\n",
    "# 힌트: 불리언 인덱싱을 사용하여 조건에 맞는 데이터만 선택\n",
    "male_mean = scores[gender == 'M'].mean()\n",
    "female_mean = scores[gender == 'F'].mean()\n",
    "\n",
    "print(male_mean)\n",
    "print(female_mean)"
   ]
  },
  {
   "cell_type": "markdown",
   "id": "f0ffae26",
   "metadata": {},
   "source": [
    "### 16. 상관계수 분석\n",
    "다음 두 데이터의 상관계수를 구하세요."
   ]
  },
  {
   "cell_type": "code",
   "execution_count": 22,
   "id": "f5b3f9b8",
   "metadata": {},
   "outputs": [
    {
     "name": "stdout",
     "output_type": "stream",
     "text": [
      "1.0\n"
     ]
    }
   ],
   "source": [
    "x = np.array([10, 20, 30, 40, 50])\n",
    "y = np.array([15, 25, 35, 45, 55])\n",
    "\n",
    "## 구현\n",
    "# 힌트: np.corrcoef(x,y) 함수를 사용하여 상관계수 계산\n",
    "correlation = np.corrcoef(x, y)[0, 1]\n",
    "print(correlation)"
   ]
  },
  {
   "cell_type": "markdown",
   "id": "03e46ff0",
   "metadata": {},
   "source": [
    "### 문제 17: 데이터 요약 통계\n",
    "난수 100개를 생성하여 평균, 중앙값, 최댓값, 최솟값, 분산을 출력하세요."
   ]
  },
  {
   "cell_type": "code",
   "execution_count": 23,
   "id": "335c7b96",
   "metadata": {},
   "outputs": [
    {
     "name": "stdout",
     "output_type": "stream",
     "text": [
      "[64 19 74 27 53 21 24  3 11 99 47 14 80 61 38 13 46 42 61 60 34 74 80 87\n",
      " 61 47 98  2 35 17 14 77 16 57 97 95 48 98 47 73 99 69 29 45 49 85  1 53\n",
      "  5 44  6 53 98  2 23  5  6 78 54  6 23 92 29 46 85 15 22 94 97 46 61 61\n",
      " 23 73 47 68 83 71 61 88 26 71 62 67 61 32 94 52 81 84 92 68 98 88 10 78\n",
      " 71 81 19  6]\n",
      "52.5\n",
      "53.5\n",
      "99\n",
      "1\n",
      "895.45\n"
     ]
    }
   ],
   "source": [
    "## 구현\n",
    "# 힌트: 난수 생성하는 방법은 np.random.randn(개수) 또는 np.random.randint(최소값, 최대값, 개수)\n",
    "arr = np.random.randint(0, 100, 100)\n",
    "mean = np.mean(arr)\n",
    "median = np.median(arr)\n",
    "max_val = np.max(arr)\n",
    "min_val = np.min(arr)\n",
    "variance = np.var(arr)\n",
    "\n",
    "print(arr)\n",
    "print(mean)\n",
    "print(median)\n",
    "print(max_val)\n",
    "print(min_val)\n",
    "print(variance)"
   ]
  }
 ],
 "metadata": {
  "kernelspec": {
   "display_name": "base",
   "language": "python",
   "name": "python3"
  },
  "language_info": {
   "codemirror_mode": {
    "name": "ipython",
    "version": 3
   },
   "file_extension": ".py",
   "mimetype": "text/x-python",
   "name": "python",
   "nbconvert_exporter": "python",
   "pygments_lexer": "ipython3",
   "version": "3.12.4"
  }
 },
 "nbformat": 4,
 "nbformat_minor": 5
}
